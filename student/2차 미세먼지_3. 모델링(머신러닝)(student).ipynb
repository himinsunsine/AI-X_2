{
 "cells": [
  {
   "cell_type": "code",
   "execution_count": 1,
   "id": "efficient-minutes",
   "metadata": {
    "tags": []
   },
   "outputs": [],
   "source": [
    "# 필요한 라이브러리 설치 및 임포트\n",
    "\n",
    "import pandas as pd\n",
    "\n",
    "from sklearn.neighbors import KNeighborsRegressor\n",
    "from sklearn.linear_model import LinearRegression, Lasso, Ridge, ElasticNet\n",
    "from sklearn.tree import DecisionTreeRegressor as DTR\n",
    "from sklearn.ensemble import RandomForestRegressor as RFR\n",
    "from sklearn.ensemble import GradientBoostingRegressor as GBR\n",
    "from sklearn.metrics import mean_squared_error as mse\n",
    "from sklearn.metrics import r2_score\n",
    "from sklearn.metrics import f1_score\n",
    "from sklearn.metrics import accuracy_score as acc\n",
    "from sklearn.metrics import recall_score as recall\n",
    "import joblib"
   ]
  },
  {
   "cell_type": "markdown",
   "id": "20aaca37-89d7-4045-affa-5a510c69495e",
   "metadata": {
    "tags": []
   },
   "source": [
    "# [Step 3] 머신러닝 모델링 1"
   ]
  },
  {
   "cell_type": "markdown",
   "id": "1a3f4996-4681-4eae-b839-8ad6267387ae",
   "metadata": {
    "tags": []
   },
   "source": [
    "#### **<span style=\"color:blue\">[3-1] 학습 및 테스트 데이터 로딩</span>**"
   ]
  },
  {
   "cell_type": "code",
   "execution_count": 2,
   "id": "changed-arrangement",
   "metadata": {
    "scrolled": true
   },
   "outputs": [],
   "source": [
    "# train_x.csv / train_y.csv / test_x.csv / test_y.csv 4개의 데이터 로딩\n",
    "\n",
    "# 데이터 로딩\n",
    "data_path ='./train_x.csv'\n",
    "train_x = pd.read_csv(data_path)\n",
    "\n",
    "data_path ='./test_x.csv'\n",
    "test_x = pd.read_csv(data_path)\n",
    "\n",
    "data_path ='./train_y.csv'\n",
    "train_y = pd.read_csv(data_path)\n",
    "\n",
    "data_path ='./test_y.csv'\n",
    "test_y = pd.read_csv(data_path)"
   ]
  },
  {
   "cell_type": "markdown",
   "id": "2084ca1a",
   "metadata": {},
   "source": [
    "---"
   ]
  },
  {
   "cell_type": "markdown",
   "id": "66dca0e8-a0d1-4562-8afe-3e8f85733393",
   "metadata": {
    "tags": []
   },
   "source": [
    "#### **<span style=\"color:blue\">[3-2] 모델링 </span>**"
   ]
  },
  {
   "cell_type": "markdown",
   "id": "joined-client",
   "metadata": {},
   "source": [
    "* 머신 모델을 선정하여 아래에 적절한 코드를 작성해주세요."
   ]
  },
  {
   "cell_type": "code",
   "execution_count": 3,
   "id": "willing-disclaimer",
   "metadata": {},
   "outputs": [
    {
     "data": {
      "text/plain": [
       "LinearRegression()"
      ]
     },
     "execution_count": 3,
     "metadata": {},
     "output_type": "execute_result"
    }
   ],
   "source": [
    "# 코드작성\n",
    "LR = LinearRegression()\n",
    "LR.fit(train_x , train_y) "
   ]
  },
  {
   "cell_type": "code",
   "execution_count": 4,
   "id": "02aa88f1",
   "metadata": {},
   "outputs": [],
   "source": [
    "y_pred_LR=LR.predict(test_x)"
   ]
  },
  {
   "cell_type": "code",
   "execution_count": 5,
   "id": "93a7f26c",
   "metadata": {},
   "outputs": [
    {
     "name": "stdout",
     "output_type": "stream",
     "text": [
      "Linear Regression\n",
      " 36.05618\n",
      " 0.93470\n"
     ]
    }
   ],
   "source": [
    "print(\"Linear Regression\")\n",
    "mse_value = mse(test_y , y_pred_LR ) \n",
    "r2_score_value = r2_score( test_y , y_pred_LR )\n",
    "\n",
    "print(f\"{ mse_value : .5f}\")\n",
    "print(f\"{r2_score_value: .5f}\")"
   ]
  },
  {
   "cell_type": "code",
   "execution_count": 6,
   "id": "6f64dbfe",
   "metadata": {},
   "outputs": [
    {
     "data": {
      "text/plain": [
       "['linear_regression_model.pkl']"
      ]
     },
     "execution_count": 6,
     "metadata": {},
     "output_type": "execute_result"
    }
   ],
   "source": [
    "# 학습한 모델을 파일로 저장해보세요.\n",
    "\n",
    "joblib.dump(LR, 'linear_regression_model.pkl')"
   ]
  },
  {
   "cell_type": "markdown",
   "id": "44e1265e-939a-41d6-87cd-98211da2b7d1",
   "metadata": {
    "tags": []
   },
   "source": [
    "# [Step 4] 머신러닝 모델링2"
   ]
  },
  {
   "cell_type": "code",
   "execution_count": 8,
   "id": "guilty-score",
   "metadata": {},
   "outputs": [
    {
     "data": {
      "text/plain": [
       "DecisionTreeRegressor()"
      ]
     },
     "execution_count": 8,
     "metadata": {},
     "output_type": "execute_result"
    }
   ],
   "source": [
    "# 아래에 필요한 코드를 작성하고 결과를 확인합니다.\n",
    "\n",
    "model=DTR()\n",
    "model.fit(train_x , train_y) "
   ]
  },
  {
   "cell_type": "code",
   "execution_count": 9,
   "id": "10b33a11",
   "metadata": {},
   "outputs": [
    {
     "name": "stdout",
     "output_type": "stream",
     "text": [
      "DecisionTreeRegressor\n",
      " 36.05618\n",
      " 0.93470\n"
     ]
    }
   ],
   "source": [
    "# Test 데이터로 성능을 평가해보세요.\n",
    "\n",
    "print(\"DecisionTreeRegressor\")\n",
    "mse_value = mse(test_y , y_pred_LR ) \n",
    "r2_score_value = r2_score( test_y , y_pred_LR )\n",
    "\n",
    "print(f\"{ mse_value : .5f}\")\n",
    "print(f\"{r2_score_value: .5f}\")\n"
   ]
  },
  {
   "cell_type": "code",
   "execution_count": 10,
   "id": "41971ff8",
   "metadata": {},
   "outputs": [
    {
     "data": {
      "text/plain": [
       "['linear_regression_model.pkl']"
      ]
     },
     "execution_count": 10,
     "metadata": {},
     "output_type": "execute_result"
    }
   ],
   "source": [
    "# 학습한 모델을 파일로 저장해보세요.\n",
    "\n",
    "joblib.dump(model, 'linear_regression_model.pkl')"
   ]
  },
  {
   "cell_type": "code",
   "execution_count": 11,
   "id": "9d1bfe7d",
   "metadata": {
    "tags": []
   },
   "outputs": [],
   "source": [
    "# 확인할 수 있는 인사이트\n",
    "# 1. 같은 날짜, 시간이어도 년도에 따라 미세먼지 농도가 큰 차이가 났었음\n",
    "# 2. mse와 r2 score가 22년도의 새로운 데이터를 잘 예측했음을 알려줌\n",
    "# 3. 만약 겨울 (12~1월) 미세먼지를 예측한다면 21년도 데이터 중 (12~1월) 데이터만 사용해도 될 것 같음"
   ]
  },
  {
   "cell_type": "code",
   "execution_count": null,
   "id": "f60db3cc",
   "metadata": {},
   "outputs": [],
   "source": []
  }
 ],
 "metadata": {
  "kernelspec": {
   "display_name": "Python 3 (ipykernel)",
   "language": "python",
   "name": "python3"
  },
  "language_info": {
   "codemirror_mode": {
    "name": "ipython",
    "version": 3
   },
   "file_extension": ".py",
   "mimetype": "text/x-python",
   "name": "python",
   "nbconvert_exporter": "python",
   "pygments_lexer": "ipython3",
   "version": "3.9.13"
  },
  "vscode": {
   "interpreter": {
    "hash": "f08154012ddadd8e950e6e9e035c7a7b32c136e7647e9b7c77e02eb723a8bedb"
   }
  }
 },
 "nbformat": 4,
 "nbformat_minor": 5
}
