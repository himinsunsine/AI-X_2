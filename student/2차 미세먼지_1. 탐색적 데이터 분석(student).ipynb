{
 "cells": [
  {
   "cell_type": "markdown",
   "id": "boxed-jamaica",
   "metadata": {},
   "source": [
    "**AIVLE School 미니프로젝트**\n",
    "### **공공데이터를 활용한 <span style=\"color:darkgreen\">미세먼지 농도</span> 예측**\n",
    "---"
   ]
  },
  {
   "cell_type": "markdown",
   "id": "967a7044-88a2-4b77-b020-5866c102d33d",
   "metadata": {},
   "source": [
    "#### **<span style=\"color:red\">[미션 안내]</span>**\n",
    "* 개인 미션: 미세먼지 농도를 예측하는 머신러닝 모델을 만드세요. ([2-1]부터 [2-10], [3-1]부터 [3-2] 까지 미션 수행)\n",
    "* 조별 미션: 개인 미션 수행한 내용에 대해 토론하여 발표 준비를 해주세요."
   ]
  },
  {
   "cell_type": "markdown",
   "id": "909025a3-58ec-482b-bdf2-6d828df85761",
   "metadata": {},
   "source": [
    "#### **<span style=\"color:red\">[주피터 노트북 파일 안내]</span>**\n",
    "1. 탐색적 데이터 분석(solution).ipynb: 미션 수행 대상 아님. 제공된 solution을 참고하여 [2-1]부터의 미션 수행을 위한 탐색적 데이터 분석 진행</br>\n",
    "2. 데이터 전처리.ipynb: [2-1]부터 [2-8] 까지 미션 수행 대상</br>\n",
    "3. 모델링(머신러닝).ipynb: [3-1]부터 [3-2] 까지 미션 수행 대상. [4-1]~[4-4]는 선택 사항임</br>"
   ]
  },
  {
   "cell_type": "markdown",
   "id": "a4e61711-04b3-4878-b95e-9115e4299ed1",
   "metadata": {},
   "source": [
    "#### **<span style=\"color:red\">[데이터 설명]</span>**\n",
    "\n",
    "* air_2021.csv : 2021년 미세먼지 데이터\n",
    "* air_2022.csv : 2022년 미세먼지 데이터\n",
    "* weather_2021.csv : 2021년 날씨 데이터\n",
    "* weather_2022.csv : 2022년 날씨 데이터\n",
    "* 학습 데이터: 2021년의 미세먼지 농도 데이터, 테스트 데이터: 2022년의 미세먼지 농도 데이터"
   ]
  },
  {
   "cell_type": "markdown",
   "id": "f2bc4fa5",
   "metadata": {},
   "source": [
    "# [Step 1] 탐색적 데이터 분석"
   ]
  },
  {
   "cell_type": "markdown",
   "id": "d480e6d6-3d32-43f7-94c7-4e0ebf980890",
   "metadata": {},
   "source": [
    "#### **<span style=\"color:blue\">[1-1] 필요한 라이브러리 설치</span>**"
   ]
  },
  {
   "cell_type": "code",
   "execution_count": 1,
   "id": "4c6ced42",
   "metadata": {},
   "outputs": [
    {
     "name": "stdout",
     "output_type": "stream",
     "text": [
      "Requirement already satisfied: pandas in c:\\users\\user\\anaconda3\\lib\\site-packages (1.4.4)\n",
      "Requirement already satisfied: seaborn in c:\\users\\user\\anaconda3\\lib\\site-packages (0.11.2)\n",
      "Requirement already satisfied: pytz>=2020.1 in c:\\users\\user\\anaconda3\\lib\\site-packages (from pandas) (2022.1)\n",
      "Requirement already satisfied: numpy>=1.18.5 in c:\\users\\user\\anaconda3\\lib\\site-packages (from pandas) (1.21.5)\n",
      "Requirement already satisfied: python-dateutil>=2.8.1 in c:\\users\\user\\anaconda3\\lib\\site-packages (from pandas) (2.8.2)\n",
      "Requirement already satisfied: matplotlib>=2.2 in c:\\users\\user\\anaconda3\\lib\\site-packages (from seaborn) (3.5.2)\n",
      "Requirement already satisfied: scipy>=1.0 in c:\\users\\user\\anaconda3\\lib\\site-packages (from seaborn) (1.9.1)\n",
      "Requirement already satisfied: cycler>=0.10 in c:\\users\\user\\anaconda3\\lib\\site-packages (from matplotlib>=2.2->seaborn) (0.11.0)\n",
      "Requirement already satisfied: fonttools>=4.22.0 in c:\\users\\user\\anaconda3\\lib\\site-packages (from matplotlib>=2.2->seaborn) (4.25.0)\n",
      "Requirement already satisfied: pyparsing>=2.2.1 in c:\\users\\user\\anaconda3\\lib\\site-packages (from matplotlib>=2.2->seaborn) (3.0.9)\n",
      "Requirement already satisfied: packaging>=20.0 in c:\\users\\user\\anaconda3\\lib\\site-packages (from matplotlib>=2.2->seaborn) (21.3)\n",
      "Requirement already satisfied: kiwisolver>=1.0.1 in c:\\users\\user\\anaconda3\\lib\\site-packages (from matplotlib>=2.2->seaborn) (1.4.2)\n",
      "Requirement already satisfied: pillow>=6.2.0 in c:\\users\\user\\anaconda3\\lib\\site-packages (from matplotlib>=2.2->seaborn) (9.2.0)\n",
      "Requirement already satisfied: six>=1.5 in c:\\users\\user\\anaconda3\\lib\\site-packages (from python-dateutil>=2.8.1->pandas) (1.16.0)\n",
      "Note: you may need to restart the kernel to use updated packages.\n"
     ]
    }
   ],
   "source": [
    "# 필요한 라이브러리 설치 및 임포트\n",
    "%pip install pandas seaborn\n",
    "\n",
    "import pandas as pd\n",
    "import seaborn as sns\n",
    "import matplotlib as plt"
   ]
  },
  {
   "cell_type": "markdown",
   "id": "d7d7725c",
   "metadata": {},
   "source": [
    "---"
   ]
  },
  {
   "cell_type": "markdown",
   "id": "5e04ec22-530b-432f-967e-c38a2430aebf",
   "metadata": {},
   "source": [
    "#### **<span style=\"color:blue\">[1-2] 미세먼지 데이터 불러오기</span>**"
   ]
  },
  {
   "cell_type": "markdown",
   "id": "vocational-animal",
   "metadata": {},
   "source": [
    "* Pandas 라이브러리를 활용해서 'air_2021.csv'파일을 'air_21' 변수에, 'air_2022.csv'파일을 'air_22' 변수에 저장하고 그 데이터를 확인하세요.\n",
    "* 구분자(sep) : ','\n",
    "* encoder = 'utf-8'\n",
    "* index_col = 0"
   ]
  },
  {
   "cell_type": "code",
   "execution_count": 2,
   "id": "saving-slope",
   "metadata": {},
   "outputs": [],
   "source": [
    "# 아래에 실습코드를 작성하고 결과를 확인합니다.\n",
    "# 'air_2021.csv'파일을 'air_21' 변수에, 'air_2022.csv'파일을 'air_22' 변수에 저장\n",
    "data_path ='./air_2022.csv'\n",
    "air_22 = pd.read_csv(data_path)\n",
    "\n",
    "data_path2 ='./air_2021.csv'\n",
    "air_21 = pd.read_csv(data_path2)\n"
   ]
  },
  {
   "cell_type": "code",
   "execution_count": 3,
   "id": "90307d62",
   "metadata": {},
   "outputs": [
    {
     "data": {
      "text/html": [
       "<div>\n",
       "<style scoped>\n",
       "    .dataframe tbody tr th:only-of-type {\n",
       "        vertical-align: middle;\n",
       "    }\n",
       "\n",
       "    .dataframe tbody tr th {\n",
       "        vertical-align: top;\n",
       "    }\n",
       "\n",
       "    .dataframe thead th {\n",
       "        text-align: right;\n",
       "    }\n",
       "</style>\n",
       "<table border=\"1\" class=\"dataframe\">\n",
       "  <thead>\n",
       "    <tr style=\"text-align: right;\">\n",
       "      <th></th>\n",
       "      <th>Unnamed: 0</th>\n",
       "      <th>지역</th>\n",
       "      <th>망</th>\n",
       "      <th>측정소코드</th>\n",
       "      <th>측정소명</th>\n",
       "      <th>측정일시</th>\n",
       "      <th>SO2</th>\n",
       "      <th>CO</th>\n",
       "      <th>O3</th>\n",
       "      <th>NO2</th>\n",
       "      <th>PM10</th>\n",
       "      <th>PM25</th>\n",
       "      <th>주소</th>\n",
       "    </tr>\n",
       "  </thead>\n",
       "  <tbody>\n",
       "    <tr>\n",
       "      <th>0</th>\n",
       "      <td>0</td>\n",
       "      <td>서울 종로구</td>\n",
       "      <td>도시대기</td>\n",
       "      <td>111123</td>\n",
       "      <td>종로구</td>\n",
       "      <td>2021100101</td>\n",
       "      <td>0.003</td>\n",
       "      <td>0.6</td>\n",
       "      <td>0.002</td>\n",
       "      <td>0.039</td>\n",
       "      <td>31.0</td>\n",
       "      <td>18.0</td>\n",
       "      <td>서울 종로구 종로35가길 19</td>\n",
       "    </tr>\n",
       "    <tr>\n",
       "      <th>1</th>\n",
       "      <td>1</td>\n",
       "      <td>서울 종로구</td>\n",
       "      <td>도시대기</td>\n",
       "      <td>111123</td>\n",
       "      <td>종로구</td>\n",
       "      <td>2021100102</td>\n",
       "      <td>0.003</td>\n",
       "      <td>0.6</td>\n",
       "      <td>0.002</td>\n",
       "      <td>0.035</td>\n",
       "      <td>27.0</td>\n",
       "      <td>16.0</td>\n",
       "      <td>서울 종로구 종로35가길 19</td>\n",
       "    </tr>\n",
       "    <tr>\n",
       "      <th>2</th>\n",
       "      <td>2</td>\n",
       "      <td>서울 종로구</td>\n",
       "      <td>도시대기</td>\n",
       "      <td>111123</td>\n",
       "      <td>종로구</td>\n",
       "      <td>2021100103</td>\n",
       "      <td>0.003</td>\n",
       "      <td>0.6</td>\n",
       "      <td>0.002</td>\n",
       "      <td>0.033</td>\n",
       "      <td>28.0</td>\n",
       "      <td>18.0</td>\n",
       "      <td>서울 종로구 종로35가길 19</td>\n",
       "    </tr>\n",
       "    <tr>\n",
       "      <th>3</th>\n",
       "      <td>3</td>\n",
       "      <td>서울 종로구</td>\n",
       "      <td>도시대기</td>\n",
       "      <td>111123</td>\n",
       "      <td>종로구</td>\n",
       "      <td>2021100104</td>\n",
       "      <td>0.003</td>\n",
       "      <td>0.6</td>\n",
       "      <td>0.002</td>\n",
       "      <td>0.030</td>\n",
       "      <td>26.0</td>\n",
       "      <td>16.0</td>\n",
       "      <td>서울 종로구 종로35가길 19</td>\n",
       "    </tr>\n",
       "    <tr>\n",
       "      <th>4</th>\n",
       "      <td>4</td>\n",
       "      <td>서울 종로구</td>\n",
       "      <td>도시대기</td>\n",
       "      <td>111123</td>\n",
       "      <td>종로구</td>\n",
       "      <td>2021100105</td>\n",
       "      <td>0.003</td>\n",
       "      <td>0.5</td>\n",
       "      <td>0.003</td>\n",
       "      <td>0.026</td>\n",
       "      <td>26.0</td>\n",
       "      <td>16.0</td>\n",
       "      <td>서울 종로구 종로35가길 19</td>\n",
       "    </tr>\n",
       "  </tbody>\n",
       "</table>\n",
       "</div>"
      ],
      "text/plain": [
       "   Unnamed: 0      지역     망   측정소코드 측정소명        측정일시    SO2   CO     O3  \\\n",
       "0           0  서울 종로구  도시대기  111123  종로구  2021100101  0.003  0.6  0.002   \n",
       "1           1  서울 종로구  도시대기  111123  종로구  2021100102  0.003  0.6  0.002   \n",
       "2           2  서울 종로구  도시대기  111123  종로구  2021100103  0.003  0.6  0.002   \n",
       "3           3  서울 종로구  도시대기  111123  종로구  2021100104  0.003  0.6  0.002   \n",
       "4           4  서울 종로구  도시대기  111123  종로구  2021100105  0.003  0.5  0.003   \n",
       "\n",
       "     NO2  PM10  PM25                주소  \n",
       "0  0.039  31.0  18.0  서울 종로구 종로35가길 19  \n",
       "1  0.035  27.0  16.0  서울 종로구 종로35가길 19  \n",
       "2  0.033  28.0  18.0  서울 종로구 종로35가길 19  \n",
       "3  0.030  26.0  16.0  서울 종로구 종로35가길 19  \n",
       "4  0.026  26.0  16.0  서울 종로구 종로35가길 19  "
      ]
     },
     "execution_count": 3,
     "metadata": {},
     "output_type": "execute_result"
    }
   ],
   "source": [
    "# air_21 데이터의 head 확인\n",
    "\n",
    "air_21.head()"
   ]
  },
  {
   "cell_type": "code",
   "execution_count": 4,
   "id": "funny-subcommittee",
   "metadata": {},
   "outputs": [
    {
     "ename": "TypeError",
     "evalue": "'tuple' object is not callable",
     "output_type": "error",
     "traceback": [
      "\u001b[1;31m---------------------------------------------------------------------------\u001b[0m",
      "\u001b[1;31mTypeError\u001b[0m                                 Traceback (most recent call last)",
      "\u001b[1;32m~\\AppData\\Local\\Temp\\ipykernel_14152\\2159523327.py\u001b[0m in \u001b[0;36m<module>\u001b[1;34m\u001b[0m\n\u001b[0;32m      1\u001b[0m \u001b[1;31m# air_21 데이터의 shape 확인\u001b[0m\u001b[1;33m\u001b[0m\u001b[1;33m\u001b[0m\u001b[0m\n\u001b[0;32m      2\u001b[0m \u001b[1;33m\u001b[0m\u001b[0m\n\u001b[1;32m----> 3\u001b[1;33m \u001b[0mair_21\u001b[0m\u001b[1;33m.\u001b[0m\u001b[0mshape\u001b[0m\u001b[1;33m(\u001b[0m\u001b[1;33m)\u001b[0m\u001b[1;33m\u001b[0m\u001b[1;33m\u001b[0m\u001b[0m\n\u001b[0m",
      "\u001b[1;31mTypeError\u001b[0m: 'tuple' object is not callable"
     ]
    }
   ],
   "source": [
    "# air_21 데이터의 shape 확인\n",
    "\n",
    "air_21.shape()"
   ]
  },
  {
   "cell_type": "code",
   "execution_count": null,
   "id": "dd66a7d4-108f-4253-99eb-a7e8eedf3d2c",
   "metadata": {},
   "outputs": [],
   "source": [
    "# air_22 데이터의 head 확인\n",
    "\n",
    "air_22.head()"
   ]
  },
  {
   "cell_type": "code",
   "execution_count": null,
   "id": "6d77b925",
   "metadata": {},
   "outputs": [],
   "source": [
    "# air_22 데이터의 shape 확인\n",
    "\n",
    "air_22.shape()"
   ]
  },
  {
   "cell_type": "markdown",
   "id": "b90ad7aa-f7ba-4d6b-8ed5-1473fd8962fd",
   "metadata": {},
   "source": [
    "---"
   ]
  },
  {
   "cell_type": "markdown",
   "id": "1d5578ce-495d-4a79-9f27-77f4683d8352",
   "metadata": {},
   "source": [
    "#### **<span style=\"color:blue\">[1-3] 날씨 데이터 불러오기</span>**"
   ]
  },
  {
   "cell_type": "markdown",
   "id": "cb0ea254",
   "metadata": {},
   "source": [
    "* Pandas 라이브러리를 활용해서 'weather_2021.csv'파일을 'weather_21' 변수에, 'weather_2022.csv'파일을 'weather_22' 변수에 저장하고 그 데이터를 확인하세요.\n",
    "* 구분자(sep) : ','\n",
    "* encoder = 'cp949'"
   ]
  },
  {
   "cell_type": "code",
   "execution_count": null,
   "id": "25c17195",
   "metadata": {},
   "outputs": [],
   "source": [
    "#'weather_2021.csv'파일을 'weather_21' 변수에, 'weather_2022.csv'파일을 'weather_22' 변수에 저장\n",
    "\n",
    "data_path3 ='./weather_2021.csv'\n",
    "weather_21 = pd.read_csv(data_path3, sep=',',encoder='cp949')\n",
    "\n",
    "data_paht4 ='./weather_2022.csv'\n",
    "weather_22 = pd.read_csv(data_path4, sep=',',encoder='cp949')"
   ]
  },
  {
   "cell_type": "code",
   "execution_count": null,
   "id": "3b77003b",
   "metadata": {},
   "outputs": [],
   "source": [
    "# 미세먼지 데이터와 같이 날씨 데이터의 head, shape 등을 확인\n",
    "weather_21.head()"
   ]
  },
  {
   "cell_type": "code",
   "execution_count": null,
   "id": "35059f7b",
   "metadata": {},
   "outputs": [],
   "source": [
    "weather_21.shape()"
   ]
  },
  {
   "cell_type": "code",
   "execution_count": null,
   "id": "0ec31099",
   "metadata": {},
   "outputs": [],
   "source": [
    "weather_22.head()"
   ]
  },
  {
   "cell_type": "code",
   "execution_count": null,
   "id": "b5cfe7c1",
   "metadata": {},
   "outputs": [],
   "source": [
    "weather_22.shape()"
   ]
  },
  {
   "cell_type": "markdown",
   "id": "5a366021-a8ae-41f3-b199-9eb81c6145d7",
   "metadata": {},
   "source": [
    "---"
   ]
  },
  {
   "cell_type": "markdown",
   "id": "2d695c0c-7081-4964-a970-0ee7196e0c71",
   "metadata": {},
   "source": [
    "#### **<span style=\"color:blue\">[1-4] 데이터 변수 확인</span>**"
   ]
  },
  {
   "cell_type": "code",
   "execution_count": null,
   "id": "demographic-battery",
   "metadata": {},
   "outputs": [],
   "source": [
    "# 각 데이터프레임의 info 확인\n",
    "\n",
    "air_21.info()"
   ]
  },
  {
   "cell_type": "code",
   "execution_count": null,
   "id": "c1bbcec8",
   "metadata": {},
   "outputs": [],
   "source": [
    "air_22.info()"
   ]
  },
  {
   "cell_type": "code",
   "execution_count": null,
   "id": "940a114a",
   "metadata": {},
   "outputs": [],
   "source": [
    "# 아래에 필요한 코드를 작성하고 결과를 확인합니다.\n",
    "\n",
    "weather_21.info()"
   ]
  },
  {
   "cell_type": "code",
   "execution_count": null,
   "id": "76019dd9",
   "metadata": {},
   "outputs": [],
   "source": [
    "# 아래에 필요한 코드를 작성하고 결과를 확인합니다.\n",
    "\n",
    "weather_22.info()"
   ]
  },
  {
   "cell_type": "markdown",
   "id": "602b8bae",
   "metadata": {
    "tags": []
   },
   "source": [
    "---"
   ]
  },
  {
   "cell_type": "markdown",
   "id": "189b5049-ccf9-41f1-a6cd-6d749332451d",
   "metadata": {},
   "source": [
    "#### **<span style=\"color:blue\">[1-5] 미세먼지 데이터 분석</span>**"
   ]
  },
  {
   "cell_type": "markdown",
   "id": "southeast-integration",
   "metadata": {},
   "source": [
    "* 데이터 전처리와 모델링을 위해 데이터 분석을 진행해보세요. 시각화 등을 통해 관측치들의 패턴 탐색, 잘못된 자료 탐색, 변수들간의 관계 파악을 할 수 있습니다."
   ]
  },
  {
   "cell_type": "code",
   "execution_count": null,
   "id": "194ae01d",
   "metadata": {},
   "outputs": [],
   "source": [
    "# 시각화 한글폰트 설정 (아래 코드를 실행하세요)\n",
    "\n",
    "plt.rc('font', family='Malgun Gothic')\n",
    "sns.set(font=\"Malgun Gothic\",#\"NanumGothicCoding\", \n",
    "        rc={\"axes.unicode_minus\":False}, # 마이너스 부호 깨짐 현상 해결\n",
    "        style='darkgrid')"
   ]
  },
  {
   "cell_type": "code",
   "execution_count": null,
   "id": "2a610ade",
   "metadata": {},
   "outputs": [],
   "source": [
    "# air_21,air_22 의 다양한 변수에 대하여 시각화\n",
    "\n",
    "\n"
   ]
  },
  {
   "cell_type": "code",
   "execution_count": null,
   "id": "b0bc6ec5",
   "metadata": {},
   "outputs": [],
   "source": [
    "# 아래에 필요한 코드를 작성하고 결과를 확인합니다.\n",
    "\n",
    "\n",
    "\n"
   ]
  },
  {
   "cell_type": "code",
   "execution_count": null,
   "id": "f295f8db",
   "metadata": {},
   "outputs": [],
   "source": [
    "# 아래에 필요한 코드를 작성하고 결과를 확인합니다.\n",
    "\n",
    "\n"
   ]
  },
  {
   "cell_type": "code",
   "execution_count": null,
   "id": "86892a60",
   "metadata": {},
   "outputs": [],
   "source": [
    "# 시각화를 통해 알게된 사실을 정리해봅니다.\n",
    "# 1. \n",
    "# 2.\n",
    "# 3."
   ]
  },
  {
   "cell_type": "markdown",
   "id": "5b94a5fa-3b40-404b-a3ba-f04ffa855aa3",
   "metadata": {
    "tags": []
   },
   "source": [
    "---"
   ]
  },
  {
   "cell_type": "markdown",
   "id": "61945726-a2f9-4abc-965b-eedb0d5b492b",
   "metadata": {},
   "source": [
    "#### **<span style=\"color:blue\">[1-6] 날씨 데이터 분석</span>**"
   ]
  },
  {
   "cell_type": "code",
   "execution_count": null,
   "id": "f1ca7a5a",
   "metadata": {},
   "outputs": [],
   "source": []
  },
  {
   "cell_type": "code",
   "execution_count": null,
   "id": "eb26af58",
   "metadata": {},
   "outputs": [],
   "source": [
    "# weather_21,weather_22 의 다양한 변수에 대하여 시각화\n",
    "\n",
    "\n",
    "\n"
   ]
  },
  {
   "cell_type": "code",
   "execution_count": null,
   "id": "bcb00292",
   "metadata": {},
   "outputs": [],
   "source": [
    "# 아래에 필요한 코드를 작성하고 결과를 확인합니다.\n",
    "\n",
    "\n",
    "\n"
   ]
  },
  {
   "cell_type": "code",
   "execution_count": null,
   "id": "6be4bb4b",
   "metadata": {},
   "outputs": [],
   "source": [
    "# 아래에 필요한 코드를 작성하고 결과를 확인합니다.\n",
    "\n",
    "\n",
    "\n"
   ]
  },
  {
   "cell_type": "code",
   "execution_count": null,
   "id": "88c96dab",
   "metadata": {},
   "outputs": [],
   "source": [
    "# 시각화를 통해 알게된 사실을 정리해봅니다.\n",
    "# 1. \n",
    "# 2.\n",
    "# 3."
   ]
  }
 ],
 "metadata": {
  "kernelspec": {
   "display_name": "Python 3 (ipykernel)",
   "language": "python",
   "name": "python3"
  },
  "language_info": {
   "codemirror_mode": {
    "name": "ipython",
    "version": 3
   },
   "file_extension": ".py",
   "mimetype": "text/x-python",
   "name": "python",
   "nbconvert_exporter": "python",
   "pygments_lexer": "ipython3",
   "version": "3.9.13"
  },
  "vscode": {
   "interpreter": {
    "hash": "f08154012ddadd8e950e6e9e035c7a7b32c136e7647e9b7c77e02eb723a8bedb"
   }
  }
 },
 "nbformat": 4,
 "nbformat_minor": 5
}
